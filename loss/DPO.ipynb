{
 "cells": [
  {
   "cell_type": "markdown",
   "metadata": {},
   "source": [
    "来自 https://github.com/eric-mitchell/direct-preference-optimization/blob/main/trainers.py"
   ]
  },
  {
   "cell_type": "code",
   "execution_count": null,
   "metadata": {},
   "outputs": [],
   "source": [
    "import torch.nn.functional as F"
   ]
  },
  {
   "cell_type": "code",
   "execution_count": null,
   "metadata": {},
   "outputs": [],
   "source": [
    "def dpo_loss(chosen_logps,\n",
    "             rejected_logps,\n",
    "             reference_chosen_logps,\n",
    "             reference_rejected_logps,\n",
    "             beta:float,\n",
    "             label_smoothing:float=0.0,\n",
    "             ipo:bool=False,\n",
    "             reference_free:bool=False):\n",
    "    \n",
    "    pi_logratios = chosen_logps - rejected_logps \n",
    "    ref_logratios = reference_chosen_logps - reference_rejected_logps \n",
    "    chosen_rewards = beta * (chosen_logps - reference_chosen_logps)\n",
    "    rejected_rewards = beta * (rejected_logps, reference_rejected_logps)\n",
    "\n",
    "    if reference_free:\n",
    "        ref_logratios = 0 \n",
    "    logits = pi_logratios - ref_logratios \n",
    "\n",
    "    if ipo:\n",
    "        losses = (logits - 1/(2*beta))**2\n",
    "    else:\n",
    "        losses = -(1-label_smoothing)*F.logsigmoid(beta*logits) - label_smoothing*F.logsigmoid(-beta*logits)\n",
    "\n",
    "    return losses, chosen_rewards, rejected_rewards"
   ]
  },
  {
   "cell_type": "code",
   "execution_count": null,
   "metadata": {},
   "outputs": [],
   "source": []
  }
 ],
 "metadata": {
  "language_info": {
   "name": "python"
  }
 },
 "nbformat": 4,
 "nbformat_minor": 2
}
